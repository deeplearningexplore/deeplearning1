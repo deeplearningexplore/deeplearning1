{
  "nbformat": 4,
  "nbformat_minor": 0,
  "metadata": {
    "colab": {
      "name": "Untitled0.ipynb",
      "provenance": [],
      "authorship_tag": "ABX9TyMLlQkg8AC4oFOsnE99iAVr",
      "include_colab_link": true
    },
    "kernelspec": {
      "name": "python3",
      "display_name": "Python 3"
    }
  },
  "cells": [
    {
      "cell_type": "markdown",
      "metadata": {
        "id": "view-in-github",
        "colab_type": "text"
      },
      "source": [
        "<a href=\"https://colab.research.google.com/github/deeplearningexplore/deeplearning1/blob/master/wildcatsclassification.ipynb\" target=\"_parent\"><img src=\"https://colab.research.google.com/assets/colab-badge.svg\" alt=\"Open In Colab\"/></a>"
      ]
    },
    {
      "cell_type": "code",
      "metadata": {
        "id": "j-t_Vi00lRxC",
        "colab_type": "code",
        "colab": {
          "base_uri": "https://localhost:8080/",
          "height": 35
        },
        "outputId": "45348a14-f832-4065-c7c4-b1268a9dcecb"
      },
      "source": [
        "# !git init\n",
        "# !git config --global user.email “<email>”\n",
        "# !git config --global user.name “<username>”\n",
        "# !git remote add origin https://<username>:<password>@github.com/deeplearningexplore/deeplearning1.git\n",
        "# !git remote set-url origin https://<username>:<password>@github.com/deeplearningexplore/deeplearning1.git\n",
        "# !git add .\n",
        "# !git commit -m \"hii\"\n",
        "# !git pull origin master --allow-unrelated-histories"
      ],
      "execution_count": null,
      "outputs": [
        {
          "output_type": "stream",
          "text": [
            "Reinitialized existing Git repository in /content/.git/\n"
          ],
          "name": "stdout"
        }
      ]
    },
    {
      "cell_type": "code",
      "metadata": {
        "id": "OAkL2NV40L2a",
        "colab_type": "code",
        "colab": {}
      },
      "source": [
        ""
      ],
      "execution_count": null,
      "outputs": []
    }
  ]
}